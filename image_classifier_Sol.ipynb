{
 "cells": [
  {
   "cell_type": "markdown",
   "metadata": {},
   "source": [
    "# Mini Fashion MNIST Image Classifier\n",
    "Beginner-friendly CNN using Fashion MNIST in a local Jupyter Notebook."
   ]
  },
  {
   "cell_type": "code",
   "metadata": {},
   "source": [
    "# --- 1. Import Libraries ---\n",
    "import numpy as np\n",
    "import matplotlib.pyplot as plt\n",
    "from tensorflow.keras import models, layers\n",
    "from tensorflow.keras.datasets import fashion_mnist"
   ]
  },
  {
   "cell_type": "code",
   "metadata": {},
   "source": [
    "# --- 2. Load and Prepare Dataset ---\n",
    "(X_train, y_train), (X_test, y_test) = fashion_mnist.load_data()\n",
    "X_train = X_train / 255.0\n",
    "X_test = X_test / 255.0\n",
    "X_train = X_train[..., None]\n",
    "X_test = X_test[..., None]\n",
    "print('Training samples:', X_train.shape[0])\n",
    "print('Test samples:', X_test.shape[0])"
   ]
  },
  {
   "cell_type": "code",
   "metadata": {},
   "source": [
    "# --- 3. Build a Simple CNN ---\n",
    "model = models.Sequential([\n",
    "    layers.Conv2D(32, (3,3), activation='relu', input_shape=(28,28,1)),\n",
    "    layers.MaxPooling2D((2,2)),\n",
    "    layers.Conv2D(64, (3,3), activation='relu'),\n",
    "    layers.MaxPooling2D((2,2)),\n",
    "    layers.Flatten(),\n",
    "    layers.Dense(64, activation='relu'),\n",
    "    layers.Dense(10, activation='softmax')\n",
    "])"
   ]
  },
  {
   "cell_type": "code",
   "metadata": {},
   "source": [
    "# --- 4. Compile the Model ---\n",
    "model.compile(optimizer='adam',\n",
    "              loss='sparse_categorical_crossentropy',\n",
    "              metrics=['accuracy'])"
   ]
  },
  {
   "cell_type": "code",
   "metadata": {},
   "source": [
    "# --- 5. Train the Model ---\n",
    "history = model.fit(X_train, y_train, epochs=5, batch_size=64, validation_data=(X_test, y_test))"
   ]
  },
  {
   "cell_type": "code",
   "metadata": {},
   "source": [
    "# --- 6. Evaluate the Model ---\n",
    "test_loss, test_acc = model.evaluate(X_test, y_test, verbose=2)\n",
    "print(f'Test accuracy: {test_acc:.4f}')"
   ]
  },
  {
   "cell_type": "code",
   "metadata": {},
   "source": [
    "# --- 7. Make a Prediction Example ---\n",
    "idx = np.random.randint(len(X_test))\n",
    "plt.imshow(X_test[idx].reshape(28,28), cmap='gray')\n",
    "plt.title(f'True label: {y_test[idx]}')\n",
    "plt.show()\n",
    "pred = model.predict(X_test[idx:idx+1])\n",
    "print('Predicted class:', np.argmax(pred))"
   ]
  },
  {
   "cell_type": "code",
   "metadata": {},
   "source": [
    "# --- 8. Plot Training History ---\n",
    "plt.plot(history.history['accuracy'], label='train accuracy')\n",
    "plt.plot(history.history['val_accuracy'], label='val accuracy')\n",
    "plt.xlabel('Epoch')\n",
    "plt.ylabel('Accuracy')\n",
    "plt.legend()\n",
    "plt.title('Training History')\n",
    "plt.show()"
   ]
  }
 ],
 "metadata": {
  "kernelspec": {
   "display_name": "Python 3",
   "language": "python",
   "name": "python3"
  },
  "language_info": {
   "name": "python",
   "version": "3.10"
  }
 },
 "nbformat": 4,
 "nbformat_minor": 5
}