{
 "cells": [
  {
   "cell_type": "markdown",
   "metadata": {},
   "source": [
    "# Mini Fashion MNIST Coding Project\n",
    "Build your own CNN on Fashion MNIST following the hints."
   ]
  },
  {
   "cell_type": "code",
   "metadata": {},
   "source": [
    "# --- 1. Imports & Dataset ---\n",
    "import numpy as np\n",
    "import matplotlib.pyplot as plt\n",
    "from tensorflow.keras import layers, models\n",
    "from tensorflow.keras.datasets import fashion_mnist\n",
    "\n",
    "# Load and preprocess dataset\n",
    "(X_train, y_train), (X_test, y_test) = fashion_mnist.load_data()\n",
    "X_train = X_train / 255.0\n",
    "X_test = X_test / 255.0\n",
    "X_train = X_train[..., None]\n",
    "X_test = X_test[..., None]\n",
    "\n",
    "print('Training samples:', X_train.shape[0])\n",
    "print('Test samples:', X_test.shape[0])"
   ]
  },
  {
   "cell_type": "code",
   "metadata": {},
   "source": [
    "# --- 2. Build CNN (Student Task) ---\n",
    "# TODO: Build your CNN using Conv2D, MaxPooling2D, Flatten, Dense\n",
    "# Hint: start with 2 Conv layers + 2 MaxPooling layers + Flatten + Dense\n",
    "model = None  # replace with your model"
   ]
  },
  {
   "cell_type": "code",
   "metadata": {},
   "source": [
    "# --- 3. Compile Model (Student Task) ---\n",
    "# TODO: Compile your model\n",
    "# Hint: optimizer='adam', loss='sparse_categorical_crossentropy', metrics=['accuracy']"
   ]
  },
  {
   "cell_type": "code",
   "metadata": {},
   "source": [
    "# --- 4. Train Model (Student Task) ---\n",
    "# TODO: Train the model for 5 epochs\n",
    "# Use validation_data=(X_test, y_test)"
   ]
  },
  {
   "cell_type": "code",
   "metadata": {},
   "source": [
    "# --- 5. Evaluate & Predict (Student Task) ---\n",
    "# TODO: Evaluate your model on test data\n",
    "# TODO: Make a prediction for a random test image and plot it"
   ]
  },
  {
   "cell_type": "code",
   "metadata": {},
   "source": [
    "# --- 6. Optional Exploration ---\n",
    "# Experiment: change layer sizes, activations, add dropout, adjust epochs, etc."
   ]
  }
 ],
 "metadata": {"kernelspec": {"display_name": "Python 3", "language": "python", "name": "python3"}},
 "nbformat": 4,
 "nbformat_minor": 5
}