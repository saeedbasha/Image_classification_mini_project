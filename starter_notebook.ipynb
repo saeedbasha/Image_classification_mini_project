{
 "cells": [
  {
   "cell_type": "markdown",
   "metadata": {},
   "source": [
    "# Mini Fashion MNIST Coding Project\n",
    "Build your own CNN on Fashion MNIST following the hints."
   ]
  },
  {
   "cell_type": "code",
   "execution_count": null,
   "metadata": {},
   "outputs": [],
   "source": [
    "# --- 1. Imports & Dataset ---\n",
    "import numpy as np\n",
    "import matplotlib.pyplot as plt\n",
    "from tensorflow.keras import layers, models\n",
    "from tensorflow.keras.datasets import fashion_mnist"
   ]
  },
  {
   "cell_type": "code",
   "execution_count": null,
   "id": "9b0dcc5b",
   "metadata": {},
   "outputs": [],
   "source": [
    "# --- 2. Load and preprocess dataset ---\n",
    "(X_train, y_train), (X_test, y_test) = fashion_mnist.load_data()\n",
    "X_train = X_train / 255.0\n",
    "X_test = X_test / 255.0\n",
    "X_train = X_train[..., None]\n",
    "X_test = X_test[..., None]\n",
    "\n",
    "print('Training samples:', X_train.shape[0])\n",
    "print('Test samples:', X_test.shape[0])"
   ]
  },
  {
   "cell_type": "code",
   "execution_count": null,
   "metadata": {},
   "outputs": [],
   "source": [
    "# --- 3. Build a Simple CNN ---\n",
    "# TODO: Build your CNN using Conv2D, MaxPooling2D, Flatten, Dense\n",
    "# Hint: start with 2 Conv layers + 2 MaxPooling layers + Flatten + Dense\n",
    "model = None  # replace with your model"
   ]
  },
  {
   "cell_type": "code",
   "execution_count": null,
   "metadata": {},
   "outputs": [],
   "source": [
    "# --- 4. Compile the Model ---\n",
    "# TODO: Compile your model\n",
    "# Hint: optimizer='adam', loss='sparse_categorical_crossentropy', metrics=['accuracy']"
   ]
  },
  {
   "cell_type": "code",
   "execution_count": null,
   "metadata": {},
   "outputs": [],
   "source": [
    "# --- 5. Train the Model ---\n",
    "# TODO: Train the model for 5 epochs\n",
    "# Use validation_data=(X_test, y_test)"
   ]
  },
  {
   "cell_type": "code",
   "execution_count": null,
   "metadata": {},
   "outputs": [],
   "source": [
    "# --- 6. Evaluate the Model ---\n",
    "# TODO: Evaluate your model on test data\n",
    "# TODO: Make a prediction for a random test image and plot it"
   ]
  },
  {
   "cell_type": "code",
   "execution_count": null,
   "id": "85d278cf",
   "metadata": {},
   "outputs": [],
   "source": [
    "# --- 7. Plot Training History ---\n"
   ]
  },
  {
   "cell_type": "code",
   "execution_count": null,
   "id": "5c5d4e92",
   "metadata": {},
   "outputs": [],
   "source": [
    "# --- 8. Make a Prediction ---\n"
   ]
  },
  {
   "cell_type": "code",
   "execution_count": null,
   "metadata": {},
   "outputs": [],
   "source": [
    "# --- 9. Exploration ---\n",
    "# Experiment: change layer sizes, activations, add dropout, adjust epochs, etc."
   ]
  },
  {
   "cell_type": "code",
   "execution_count": null,
   "id": "2e2f8b66",
   "metadata": {},
   "outputs": [],
   "source": [
    "# --- 10. (Optional) Test Your Model on a New Image ---\n",
    "\n",
    "#  Try your trained model on a new image (not from the dataset)\n",
    "\n",
    "# Step 1: Download or load an image (any fashion item or similar)\n",
    "# Hint: You can use PIL or OpenCV to load the image\n",
    "# Example:\n",
    "# from PIL import Image\n",
    "# img = Image.open(\"path_to_your_image.jpg\").convert('L')  # convert to grayscale\n",
    "\n",
    "# Step 2: Preprocess the image\n",
    "# - Resize it to 28x28 (same as Fashion MNIST)\n",
    "# - Normalize pixel values to [0,1]\n",
    "# - Reshape to (1,28,28,1) for prediction\n",
    "\n",
    "# Step 3: Make a prediction\n",
    "# pred = model.predict(img_array)\n",
    "# print(\"Predicted class:\", np.argmax(pred))\n",
    "\n"
   ]
  },
  {
   "cell_type": "markdown",
   "id": "cda41328",
   "metadata": {},
   "source": [
    "Hint : Make sure the image is similar to Fashion MNIST items for correct prediction.\n",
    "\n",
    "For real webcam input, make sure the background is simple, and the object fits in the frame."
   ]
  },
  {
   "cell_type": "code",
   "execution_count": null,
   "id": "fd5c2caf",
   "metadata": {},
   "outputs": [],
   "source": [
    "# --- 11. (Optional) Use a webcam to capture an image ---\n",
    "#  Create an image dataset with your webcam\n",
    "\n",
    "# - You can use the repo: https://github.com/bonartm/imageclassifier\n",
    "# - Capture an image and apply the same preprocessing steps"
   ]
  }
 ],
 "metadata": {
  "kernelspec": {
   "display_name": "Python 3",
   "language": "python",
   "name": "python3"
  }
 },
 "nbformat": 4,
 "nbformat_minor": 5
}
