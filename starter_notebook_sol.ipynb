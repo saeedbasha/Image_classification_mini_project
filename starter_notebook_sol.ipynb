{
 "cells": [
  {
   "cell_type": "markdown",
   "metadata": {},
   "source": [
    "# Mini Fashion MNIST Mini Project\n",
    "Build your own CNN on Fashion MNIST following the hints."
   ]
  },
  {
   "cell_type": "code",
   "execution_count": null,
   "metadata": {},
   "outputs": [],
   "source": [
    "# --- 1. Imports & Dataset ---\n",
    "import numpy as np\n",
    "import matplotlib.pyplot as plt\n",
    "from tensorflow.keras import layers, models\n",
    "from tensorflow.keras.datasets import fashion_mnist"
   ]
  },
  {
   "cell_type": "code",
   "execution_count": null,
   "id": "9b0dcc5b",
   "metadata": {},
   "outputs": [],
   "source": [
    "# --- 2. Load and preprocess dataset ---\n",
    "(X_train, y_train), (X_test, y_test) = fashion_mnist.load_data()\n",
    "X_train = X_train / 255.0\n",
    "X_test = X_test / 255.0\n",
    "X_train = X_train[..., None] # (...) means “all existing dimensions” = (num_samples, 28, 28)\n",
    "X_test = X_test[..., None]\n",
    "\n",
    "print('Training samples:', X_train.shape[0])\n",
    "print('Test samples:', X_test.shape[0])"
   ]
  },
  {
   "cell_type": "code",
   "execution_count": null,
   "metadata": {},
   "outputs": [],
   "source": [
    "# --- 3. Build a Simple CNN ---\n",
    "\n",
    "model = models.Sequential([\n",
    "    # First convolution + max pooling\n",
    "    layers.Conv2D(32, (3,3), activation='relu', input_shape=(28,28,1)),\n",
    "    layers.MaxPooling2D((2,2)),\n",
    "\n",
    "    # Second convolution + max pooling\n",
    "    layers.Conv2D(64, (3,3), activation='relu'),\n",
    "    layers.MaxPooling2D((2,2)),\n",
    "\n",
    "    # Flatten and fully connected layers\n",
    "    layers.Flatten(),\n",
    "    layers.Dense(64, activation='relu'),\n",
    "    layers.Dense(10, activation='softmax')  # output layer for 10 classes\n",
    "])\n"
   ]
  },
  {
   "cell_type": "code",
   "execution_count": null,
   "id": "6f5b5388",
   "metadata": {},
   "outputs": [],
   "source": [
    "# --- 4. Compile the Model ---\n",
    "model.compile(optimizer='adam',\n",
    "              loss='sparse_categorical_crossentropy',\n",
    "              metrics=['accuracy'])"
   ]
  },
  {
   "cell_type": "code",
   "execution_count": null,
   "id": "a1dcbfed",
   "metadata": {},
   "outputs": [],
   "source": [
    "# --- 5. Train the Model ---\n",
    "history = model.fit(X_train, y_train, epochs=5, batch_size=64, validation_data=(X_test, y_test))"
   ]
  },
  {
   "cell_type": "code",
   "execution_count": null,
   "id": "4e62403e",
   "metadata": {},
   "outputs": [],
   "source": [
    "# --- 6. Evaluate the Model ---\n",
    "test_loss, test_acc = model.evaluate(X_test, y_test, verbose=2)\n",
    "print(f'Test accuracy: {test_acc:.4f}')"
   ]
  },
  {
   "cell_type": "code",
   "execution_count": null,
   "id": "0d95424f",
   "metadata": {},
   "outputs": [],
   "source": [
    "# --- 7. Plot Training History ---\n",
    "plt.plot(history.history['accuracy'], label='train accuracy')\n",
    "plt.plot(history.history['val_accuracy'], label='val accuracy')\n",
    "plt.xlabel('Epoch')\n",
    "plt.ylabel('Accuracy')\n",
    "plt.legend()\n",
    "plt.title('Training History')\n",
    "plt.show()"
   ]
  },
  {
   "cell_type": "code",
   "execution_count": null,
   "id": "d60a5d46",
   "metadata": {},
   "outputs": [],
   "source": [
    "# --- 8. Make a Prediction  ---\n",
    "idx = np.random.randint(len(X_test))\n",
    "plt.imshow(X_test[idx].reshape(28,28), cmap='gray')\n",
    "plt.title(f'True label: {y_test[idx]}')\n",
    "plt.show()\n",
    "pred = model.predict(X_test[idx:idx+1])\n",
    "print('Predicted class:', np.argmax(pred))"
   ]
  },
  {
   "cell_type": "code",
   "execution_count": null,
   "id": "584eb85c",
   "metadata": {},
   "outputs": [],
   "source": [
    "# --- 9. Optional Exploration ---\n",
    "from tensorflow.keras.layers import LeakyReLU\n",
    "\n",
    "# 1️⃣ Using Dropout\n",
    "model1 = models.Sequential([\n",
    "    layers.Conv2D(32, (3,3), activation='relu', input_shape=(28,28,1)),\n",
    "    layers.MaxPooling2D((2,2)),\n",
    "    layers.Conv2D(64, (3,3), activation='relu'),\n",
    "    layers.MaxPooling2D((2,2)),\n",
    "    layers.Flatten(),\n",
    "    layers.Dense(128, activation='relu'),\n",
    "    layers.Dropout(0.5),  # 50% dropout\n",
    "    layers.Dense(10, activation='softmax')\n",
    "])\n",
    "\n",
    "# 2️⃣ Using LeakyReLU activation\n",
    "model2 = models.Sequential([\n",
    "    layers.Conv2D(32, (3,3)),\n",
    "    LeakyReLU(alpha=0.1),\n",
    "    layers.MaxPooling2D((2,2)),\n",
    "    layers.Conv2D(64, (3,3)),\n",
    "    LeakyReLU(alpha=0.1),\n",
    "    layers.MaxPooling2D((2,2)),\n",
    "    layers.Flatten(),\n",
    "    layers.Dense(64),\n",
    "    LeakyReLU(alpha=0.1),\n",
    "    layers.Dense(10, activation='softmax')\n",
    "])\n",
    "\n"
   ]
  },
  {
   "cell_type": "code",
   "execution_count": null,
   "id": "1f762e26",
   "metadata": {},
   "outputs": [],
   "source": [
    "# you can change between model1 & model2\n",
    "model2.compile(\n",
    "    optimizer='adam',\n",
    "    loss='sparse_categorical_crossentropy',\n",
    "    metrics=['accuracy']\n",
    ")\n"
   ]
  },
  {
   "cell_type": "code",
   "execution_count": null,
   "id": "5b4f7e00",
   "metadata": {},
   "outputs": [],
   "source": [
    "history = model2.fit(\n",
    "    X_train, y_train,\n",
    "    epochs=10,      # longer training\n",
    "    batch_size=128, # larger batch size\n",
    "    validation_data=(X_test, y_test)\n",
    ")\n"
   ]
  },
  {
   "cell_type": "code",
   "execution_count": null,
   "id": "c9d89be6",
   "metadata": {},
   "outputs": [],
   "source": [
    "# Evaluate the trained model on test set\n",
    "test_loss, test_accuracy = model2.evaluate(X_test, y_test, verbose=2)\n",
    "print(f\"Test Loss: {test_loss:.4f}\")\n",
    "print(f\"Test Accuracy: {test_accuracy:.4f}\")\n"
   ]
  },
  {
   "cell_type": "code",
   "execution_count": null,
   "id": "2c74fca1",
   "metadata": {},
   "outputs": [],
   "source": [
    "# Predict classes for test images\n",
    "predictions = model1.predict(X_test)\n",
    "\n",
    "# Convert softmax probabilities to class indices\n",
    "predicted_classes = np.argmax(predictions, axis=1)\n",
    "\n",
    "# Compare first 10 predictions to true labels\n",
    "for i in range(10):\n",
    "    print(f\"True: {y_test[i]}, Predicted: {predicted_classes[i]}\")\n"
   ]
  },
  {
   "cell_type": "code",
   "execution_count": null,
   "id": "6cf5585c",
   "metadata": {},
   "outputs": [],
   "source": [
    "#Visualize Some Predictions\n",
    "class_labels = ['T-shirt/top', 'Trouser', 'Pullover', 'Dress', 'Coat',\n",
    "                'Sandal', 'Shirt', 'Sneaker', 'Bag', 'Ankle boot']\n",
    "\n",
    "# Show first 5 test images with predictions\n",
    "for i in range(5):\n",
    "    plt.imshow(X_test[i].reshape(28,28), cmap='gray')\n",
    "    plt.title(f\"True: {class_labels[y_test[i]]}, Pred: {class_labels[predicted_classes[i]]}\")\n",
    "    plt.show()\n"
   ]
  },
  {
   "cell_type": "code",
   "execution_count": null,
   "id": "90a6c730",
   "metadata": {},
   "outputs": [],
   "source": [
    "# --- 10. Test Your Model on a New Image ---\n",
    "\n",
    "from PIL import Image\n",
    "\n",
    "# Step 1: Load an image\n",
    "# Make sure it is a fashion item (t-shirt, shoe, etc.)\n",
    "# Convert to grayscale ('L') since Fashion MNIST is grayscale\n",
    "img = Image.open(\"your_image.jpg\").convert('L')  \n",
    "\n",
    "# Step 2: Resize to 28x28 (same as training images)\n",
    "img = img.resize((28, 28))\n",
    "\n",
    "# Step 3: Convert to numpy array and normalize\n",
    "img_array = np.array(img) / 255.0  # scale to 0-1\n",
    "img_array = img_array.reshape(1, 28, 28, 1)  # shape: (1,28,28,1)\n",
    "\n",
    "# Step 4: Make a prediction\n",
    "pred = model.predict(img_array)\n",
    "predicted_class = np.argmax(pred)\n",
    "print(\"Predicted class:\", predicted_class)\n",
    "\n",
    "# Step 5: Visualize the image\n",
    "import matplotlib.pyplot as plt\n",
    "plt.imshow(img_array.reshape(28,28), cmap='gray')\n",
    "plt.title(f\"Predicted class: {predicted_class}\")\n",
    "plt.show()\n"
   ]
  }
 ],
 "metadata": {
  "kernelspec": {
   "display_name": ".venv",
   "language": "python",
   "name": "python3"
  },
  "language_info": {
   "codemirror_mode": {
    "name": "ipython",
    "version": 3
   },
   "file_extension": ".py",
   "mimetype": "text/x-python",
   "name": "python",
   "nbconvert_exporter": "python",
   "pygments_lexer": "ipython3",
   "version": "3.11.3"
  }
 },
 "nbformat": 4,
 "nbformat_minor": 5
}
